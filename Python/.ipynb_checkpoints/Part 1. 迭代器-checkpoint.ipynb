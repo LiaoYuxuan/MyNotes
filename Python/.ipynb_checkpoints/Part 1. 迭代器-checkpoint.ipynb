{
 "cells": [
  {
   "cell_type": "markdown",
   "id": "d7c379bd",
   "metadata": {},
   "source": [
    "# Python-迭代器"
   ]
  },
  {
   "cell_type": "markdown",
   "id": "04ba72fd",
   "metadata": {},
   "source": [
    "## 1. 为什么要使用迭代器？"
   ]
  },
  {
   "cell_type": "markdown",
   "id": "eefd6b32",
   "metadata": {},
   "source": [
    "解决for循环无法迭代类创建的对象的问题，在实际应用中经常要把对象转换为起来类型的数据，通过迭代器可以快速迭代出自定义的对象，并减少代码冗余"
   ]
  },
  {
   "cell_type": "markdown",
   "id": "df50aa35",
   "metadata": {},
   "source": [
    "## 2. 什么是迭代？"
   ]
  },
  {
   "cell_type": "markdown",
   "id": "fe94994b",
   "metadata": {},
   "source": [
    "基础中学到的list, tuple, str等类型均可使用`for ... in ...`的方法进行有序的读取，称为遍历，也称之为迭代"
   ]
  },
  {
   "cell_type": "markdown",
   "id": "aa87bed6",
   "metadata": {},
   "source": [
    "## 3. 对象的划分"
   ]
  },
  {
   "cell_type": "markdown",
   "id": "042f710d",
   "metadata": {},
   "source": [
    "* 不可遍历型对象，如整型、浮点型\n",
    "* 可遍历型对象，如列表、元祖、字典、字符串等"
   ]
  },
  {
   "cell_type": "markdown",
   "id": "d10c9680",
   "metadata": {},
   "source": [
    "## 4. 如何判断变量是否可迭代？"
   ]
  },
  {
   "cell_type": "markdown",
   "id": "c4cebcea",
   "metadata": {},
   "source": [
    "使用`isinstance(XX, Iterable)`判断某一变量是否可迭代"
   ]
  },
  {
   "cell_type": "code",
   "execution_count": 1,
   "id": "88850742",
   "metadata": {},
   "outputs": [
    {
     "data": {
      "text/plain": [
       "True"
      ]
     },
     "execution_count": 1,
     "metadata": {},
     "output_type": "execute_result"
    }
   ],
   "source": [
    "from collections.abc import Iterable\n",
    "isinstance([1, 2, 3], Iterable)"
   ]
  },
  {
   "cell_type": "markdown",
   "id": "5c3dd4c7",
   "metadata": {},
   "source": [
    "### <mark><font color=red>小技巧：isinstance经常用于判断数据类型，比type更好用</font></mark>"
   ]
  },
  {
   "cell_type": "markdown",
   "id": "ee72591c",
   "metadata": {},
   "source": [
    "## 5. 如何判断变量是否为迭代器类型？"
   ]
  },
  {
   "cell_type": "code",
   "execution_count": 2,
   "id": "756be71f",
   "metadata": {},
   "outputs": [
    {
     "data": {
      "text/plain": [
       "False"
      ]
     },
     "execution_count": 2,
     "metadata": {},
     "output_type": "execute_result"
    }
   ],
   "source": [
    "from collections.abc import Iterator\n",
    "isinstance([1, 2, 3], Iterator)"
   ]
  },
  {
   "cell_type": "markdown",
   "id": "b01af39b",
   "metadata": {},
   "source": [
    "## 6. 什么是迭代器(Iterator)？"
   ]
  },
  {
   "cell_type": "markdown",
   "id": "c2c54b9d",
   "metadata": {},
   "source": [
    "* 定义：可以记住遍历位置的对象\n",
    "* 特点：从第一个元素开始访问，直到所有元素被访问完结束，注意只能往前而不能后退\n",
    "* 迭代器的本质是记住访问过的元素的位置，所以可迭代对象的本质是其自身有迭代器对象\n",
    "    * 可以通过iter()函数获取可迭代对象的迭代器（<font color=red>注意这里不是方法，函数是指iter(X)，方法则是X.iter()</font>）\n",
    "    * 然后对迭代器不断使用next()函数来获得下一条数据\n",
    "* for循环是此方法的封装，`for A in B`的本质是\n",
    "    * 第1步：将可遍历对象B作为实参，获取其迭代器B_iter；\n",
    "    * 第2步：使用next函数获取下一条数据b；\n",
    "    * 第3步：将数据b存入A中；\n",
    "    * 第4步：执行for循环体中的代码；\n",
    "    * 第5步：一次for循环执行完毕后，重复2-4步；\n",
    "        * 当B中所有数据都访问后，下一次next方法取数据会出现StopIteration异常；\n",
    "        * for循环中自带异常处理，即当遇到这个异常时，自动结束for循环的运行；\n",
    "        * 自己实现时可以通过`try: ... except ..... as ...`；"
   ]
  },
  {
   "cell_type": "markdown",
   "id": "fd6dcd58",
   "metadata": {},
   "source": [
    "### <mark><font color=red>注意：iter()函数用于可迭代对象，next()函数用于迭代器！！！！</font></mark>"
   ]
  },
  {
   "cell_type": "markdown",
   "id": "b09e4408",
   "metadata": {},
   "source": [
    "练习：使用iter()和next()实现for循环"
   ]
  },
  {
   "cell_type": "code",
   "execution_count": 8,
   "id": "79f70a79",
   "metadata": {},
   "outputs": [
    {
     "name": "stdout",
     "output_type": "stream",
     "text": [
      "11\n",
      "22\n",
      "33\n",
      "44\n",
      "遍历完成\n",
      "------------------------------\n",
      "11\n",
      "22\n",
      "33\n",
      "44\n"
     ]
    }
   ],
   "source": [
    "# 1. 定义一个可迭代对象\n",
    "nums = [11, 22, 33, 44] \n",
    "# 2. 获取这个可迭代对象的迭代器\n",
    "nums_iter = iter(nums) # 迭代器\n",
    "# 3. 循环调用next函数取迭代器中的数据\n",
    "while True:\n",
    "    try:\n",
    "        # 4. 提取迭代器的下一个数据\n",
    "        num = next(nums_iter)\n",
    "        print(num)\n",
    "    except StopIteration as ret:\n",
    "        print(\"遍历完成\")\n",
    "        break\n",
    "print(\"-\"*30)\n",
    "# 使用for循环遍历\n",
    "for num in nums:\n",
    "    print(num)"
   ]
  },
  {
   "cell_type": "markdown",
   "id": "9fb419c3",
   "metadata": {},
   "source": [
    "### <mark><font color=red>注意：不要采用根据元素总数来设计程序，如下所示，太投机取巧，最好的方式是加入try except</font></mark>"
   ]
  },
  {
   "cell_type": "code",
   "execution_count": 9,
   "id": "1cf05f5c",
   "metadata": {},
   "outputs": [
    {
     "name": "stdout",
     "output_type": "stream",
     "text": [
      "11\n",
      "22\n",
      "33\n",
      "44\n"
     ]
    }
   ],
   "source": [
    "nums = [11, 22, 33, 44] \n",
    "nums_iter = iter(nums) \n",
    "i = 0\n",
    "while i < len(nums):\n",
    "    num = next(nums_iter)\n",
    "    print(num)\n",
    "    i += 1"
   ]
  },
  {
   "cell_type": "markdown",
   "id": "a69c8ee6",
   "metadata": {},
   "source": [
    "# 以上均属于面向过程的编程方法，而在面向对象的编程方法中常常是在类中定义迭代方法："
   ]
  },
  {
   "cell_type": "markdown",
   "id": "24db3174",
   "metadata": {},
   "source": [
    "## 7. 什么是可迭代对象(object)？"
   ]
  },
  {
   "cell_type": "markdown",
   "id": "d1929e2b",
   "metadata": {},
   "source": [
    "* 从类的角度来看，就是具有`__iter__`方法和`__next__`方法的类创建的对象称为可迭代对象\n",
    "* 这是因为在使用`iter()`函数获取自定义对象的迭代器时，本质上是调用该对象所属的类中的`__iter__`方法，无论该方法具体写的是什么，都是可迭代对象"
   ]
  },
  {
   "cell_type": "code",
   "execution_count": 10,
   "id": "4bfc0ec2",
   "metadata": {},
   "outputs": [
    {
     "name": "stdout",
     "output_type": "stream",
     "text": [
      "True\n"
     ]
    }
   ],
   "source": [
    "from collections.abc import Iterable\n",
    "\n",
    "class MyList(object):\n",
    "    def __init__(self):\n",
    "        self.container = []\n",
    "    \n",
    "    def __iter__(self):\n",
    "        pass #表示缺省\n",
    "    \n",
    "    def add(self, item):\n",
    "        self.container.append(item)\n",
    "\n",
    "mylist = MyList()\n",
    "mylist.add(11)\n",
    "mylist.add(22)\n",
    "mylist.add(33)\n",
    "print(isinstance(mylist, Iterable))"
   ]
  },
  {
   "cell_type": "markdown",
   "id": "6852ac55",
   "metadata": {},
   "source": [
    "* 同理，需要`__next__`方法，也是因为使用`next()`函数时，本质上是调用迭代器对象的`__next_`_方法\n",
    "* 只有`__iter__`方法的类属于可迭代对象，而`__iter__`方法和`__next__`方法都有的类属于迭代器\n",
    "* 将两者关联在一起的方法就是在可迭代对象的`__iter__`方法中返回迭代器类创建的对象即可，如下所示："
   ]
  },
  {
   "cell_type": "code",
   "execution_count": 14,
   "id": "aafa529a",
   "metadata": {},
   "outputs": [
    {
     "name": "stdout",
     "output_type": "stream",
     "text": [
      "mylist是否是可迭代对象 True\n",
      "mylist是否是迭代器 False\n",
      "mylist_iter是否是可迭代对象 True\n",
      "mylist_iter是否是迭代器 True\n"
     ]
    }
   ],
   "source": [
    "from collections.abc import Iterable\n",
    "from collections.abc import Iterator\n",
    "\n",
    "class MyList(object):\n",
    "    def __init__(self):\n",
    "        self.container = []\n",
    "    \n",
    "    def __iter__(self):\n",
    "        # 这个方法有两个功能\n",
    "        # 1. 标记当前类创建出来的对象一定是可迭代对象\n",
    "        # 2. 当使用系统iter()函数时，这个类内的`__iter__`方法会自动被调用，从而返回自己指定的迭代器\n",
    "        return MyIterator()\n",
    "    \n",
    "    def add(self, item):\n",
    "        self.container.append(item)\n",
    "        \n",
    "class MyIterator(object):\n",
    "    def __init__(self):\n",
    "        pass\n",
    "    \n",
    "    def __iter__(self):\n",
    "        pass\n",
    "    \n",
    "    def __next__(self):\n",
    "        pass\n",
    "    \n",
    "mylist = MyList()\n",
    "mylist_iter = iter(mylist)\n",
    "\n",
    "print(\"mylist是否是可迭代对象\", isinstance(mylist, Iterable))\n",
    "print(\"mylist是否是迭代器\", isinstance(mylist, Iterator))\n",
    "print(\"mylist_iter是否是可迭代对象\", isinstance(mylist_iter, Iterable))\n",
    "print(\"mylist_iter是否是迭代器\", isinstance(mylist_iter, Iterator))"
   ]
  },
  {
   "cell_type": "markdown",
   "id": "3acf934c",
   "metadata": {},
   "source": [
    "### <mark><font color=red>注意：创建可迭代对象的目的是，一方面可以使用for等遍历，另一方面可以与其他可迭代数据类型转化</font></mark>"
   ]
  },
  {
   "cell_type": "code",
   "execution_count": 16,
   "id": "5003e312",
   "metadata": {},
   "outputs": [
    {
     "name": "stdout",
     "output_type": "stream",
     "text": [
      "[1, 2, 3, 4]\n"
     ]
    }
   ],
   "source": [
    "class MyList(object):\n",
    "    def __init__(self):\n",
    "        self.container = []\n",
    "    \n",
    "    def __iter__(self):\n",
    "        # 注意：MyList类中的__iter__方法是把当前类的self作为参数整体传给MyIterator类，\n",
    "        # 所以MyIterator类的__init__方法除了自己的self以外还有一个参数，用于接受传递过来的参数，即MyList类的self\n",
    "        myiterator = MyIterator(self)\n",
    "        return myiterator\n",
    "    \n",
    "    def add(self, item):\n",
    "        self.container.append(item)\n",
    "        \n",
    "class MyIterator(object):\n",
    "    \"\"\"自定义的供上面可迭代对象使用的迭代器\"\"\"\n",
    "    def __init__(self, mylist):\n",
    "        self.mylist = mylist\n",
    "        self.current = 0\n",
    "    \n",
    "    def __next__(self):\n",
    "        if self.current < len(self.mylist.container):\n",
    "            item = self.mylist.container[self.current]\n",
    "            self.current += 1\n",
    "            return item\n",
    "        else:\n",
    "            # 注意：在写主体程序的时候通常用try execpt，而写类中的方法时通常用raise XXX 来抛出异常\n",
    "            raise StopIteration\n",
    "            # 注意：如果遍历完不抛出异常，而只是返回none，则无法应用于for循环\n",
    "            # 因为for循环带有异常检测功能，根据__next__方法返回的异常来结束循环的，而无法判断None\n",
    "            # return None\n",
    "    \n",
    "    def __iter__(self):\n",
    "        return self\n",
    "    \n",
    "if __name__ == '__main__':\n",
    "    mylist = MyList()\n",
    "    mylist.add(1)\n",
    "    mylist.add(2)\n",
    "    mylist.add(3)\n",
    "    mylist.add(4)\n",
    "    \n",
    "    # 通过以上方法，实现了一个可迭代对象，从而可以与list等可迭代对象进行类型转换\n",
    "    nums = list(mylist)\n",
    "    print(nums)"
   ]
  },
  {
   "cell_type": "markdown",
   "id": "3e1f17af",
   "metadata": {},
   "source": [
    "### <mark><font color=red>注意：迭代器一定是可迭代对象，但可迭代对象不一定是迭代器！！！！</font></mark>"
   ]
  },
  {
   "cell_type": "markdown",
   "id": "b5b487a6",
   "metadata": {},
   "source": [
    "* 上述案例，可以合并迭代器和可迭代对象的类，使可迭代对象的类直接成为迭代器\n",
    "* 注意：此时`__iter__`方法直接返回自己self即可，只不过要添加表示当前下标的变量，并进行初始化，图片3中只放在了`__init__`方法中, 导致只能迭代一次"
   ]
  },
  {
   "cell_type": "code",
   "execution_count": 21,
   "id": "fd708388",
   "metadata": {},
   "outputs": [
    {
     "name": "stdout",
     "output_type": "stream",
     "text": [
      "1\n",
      "2\n",
      "3\n",
      "4\n",
      "------------------------------\n"
     ]
    }
   ],
   "source": [
    "class MyList(object):\n",
    "    def __init__(self):\n",
    "        self.container = []\n",
    "        self.current = 0\n",
    "    \n",
    "    def __iter__(self):\n",
    "        # 直接返回自己，因为本身就是迭代器\n",
    "        return self\n",
    "        \n",
    "    def __next__(self):\n",
    "        if self.current < len(self.container):\n",
    "            item = self.container[self.current]\n",
    "            self.current += 1\n",
    "            return item\n",
    "        else:\n",
    "            raise StopIteration\n",
    "    \n",
    "    def add(self, item):\n",
    "        self.container.append(item)\n",
    "    \n",
    "if __name__ == '__main__':\n",
    "    mylist = MyList()\n",
    "    mylist.add(1)\n",
    "    mylist.add(2)\n",
    "    mylist.add(3)\n",
    "    mylist.add(4)\n",
    "    \n",
    "    for num in mylist:\n",
    "        print(num)\n",
    "    print(\"-\"*30)\n",
    "    # 这种写法会导致只能遍历一次！！！！\n",
    "    for num in mylist:\n",
    "        print(num)"
   ]
  },
  {
   "cell_type": "markdown",
   "id": "4116729f",
   "metadata": {},
   "source": [
    "### 小总结\n",
    "* 凡是可作用于`for`循环的对象都是可迭代对象类型；\n",
    "* 凡是可作用于`next()`函数的对象都是迭代器类型；\n",
    "* <font color=red>集合数据类型如`list``dict`、`str`等都是可迭代对象类型，但不是迭代器类型，不过可以通过`iter()`函数获得其迭代器对象</font>\n",
    "* <font color=red>除了for循环能接收可迭代对象外，列表、元祖等也可以接收可迭代对象！！！也就是通常理解上的类型转换</font>\n",
    "    * 把list转为tuple，本质过程是从list中迭代取出每一个元素，然后一个一个放入元祖中，所以list和tuple之间是可以相互转换的\n",
    "    * <font color=red>构造的可迭代对象也可以很容易转成列表、元祖、集合等数据类型，如下所示，即list、tuple等类型转换的核心是：被转换对象必须可迭代！！</font>"
   ]
  },
  {
   "cell_type": "code",
   "execution_count": 24,
   "id": "6667decb",
   "metadata": {},
   "outputs": [
    {
     "name": "stdout",
     "output_type": "stream",
     "text": [
      "(11, 22, 33, 44)\n",
      "[77, 88, 99]\n"
     ]
    }
   ],
   "source": [
    "nums = [11, 22, 33, 44] \n",
    "print(tuple(nums))\n",
    "nums = (77, 88, 99)\n",
    "print(list(nums))\n",
    "# 表面上看是类型转换，本质是接收可迭代对象"
   ]
  },
  {
   "cell_type": "markdown",
   "id": "50871006",
   "metadata": {},
   "source": [
    "<font color=red>改进：如果要把`__iter__`方法和`__next__`方法放在同一个类中，对于下标的初始化可以放在iter中，不过为了形式上统一，放在`__next__`方法的异常情况中，如下所示`</font>"
   ]
  },
  {
   "cell_type": "code",
   "execution_count": 25,
   "id": "1232d97d",
   "metadata": {},
   "outputs": [
    {
     "name": "stdout",
     "output_type": "stream",
     "text": [
      "学生姓名:liao\n",
      "学生学号:1\n",
      "学生姓名:yu\n",
      "学生学号:2\n",
      "学生姓名:xuan\n",
      "学生学号:3\n",
      "{'name': 'liao', 'id': '1'}\n",
      "{'name': 'yu', 'id': '2'}\n",
      "{'name': 'xuan', 'id': '3'}\n",
      "{'name': 'liao', 'id': '1'}\n",
      "{'name': 'yu', 'id': '2'}\n",
      "{'name': 'xuan', 'id': '3'}\n",
      "[{'name': 'liao', 'id': '1'}, {'name': 'yu', 'id': '2'}, {'name': 'xuan', 'id': '3'}]\n",
      "[{'name': 'liao', 'id': '1'}, {'name': 'yu', 'id': '2'}, {'name': 'xuan', 'id': '3'}]\n"
     ]
    }
   ],
   "source": [
    "class StuSystem(object):\n",
    "    \"\"\"\n",
    "    学生管理系统\n",
    "    \"\"\"\n",
    "    def __init__(self):\n",
    "        self.stus = []\n",
    "        self.current = 0\n",
    "\n",
    "    def __iter__(self):\n",
    "        # 如果self.current初始化放在这里，则__init__和__next__不用再加初始化\n",
    "        # self.current = 0\n",
    "        return self\n",
    "\n",
    "    def __next__(self):\n",
    "        if self.current<=len(self.stus)-1:\n",
    "            item = self.stus[self.current]\n",
    "            self.current+=1\n",
    "            return item\n",
    "        else:\n",
    "            # self.current初始化放在iter中也可以，不过为了形式上的统一，放在next的异常情况中，此时必须在__init__中加入第一个初始化\n",
    "            self.current = 0\n",
    "            raise StopIteration\n",
    "\n",
    "\n",
    "    def add(self):\n",
    "        \"\"\"\n",
    "        添加新学生\n",
    "        :return:\n",
    "        \"\"\"\n",
    "        name = input(\"学生姓名:\")\n",
    "        id = input(\"学生学号:\")\n",
    "\n",
    "        new_stu = dict()\n",
    "        new_stu[\"name\"]=name\n",
    "        new_stu[\"id\"]=id\n",
    "\n",
    "        self.stus.append(new_stu)\n",
    "\n",
    "stu_sys = StuSystem()\n",
    "\n",
    "stu_sys.add()\n",
    "stu_sys.add()\n",
    "stu_sys.add()\n",
    "\n",
    "for stu in stu_sys:\n",
    "    print(stu)\n",
    "\n",
    "# 看一下第二次循环会不会出问题\n",
    "for stu in stu_sys:\n",
    "    print(stu)\n",
    "\n",
    "stu_list = [stu for stu in stu_sys]\n",
    "print(stu_list)\n",
    "print(list(stu_sys))"
   ]
  }
 ],
 "metadata": {
  "kernelspec": {
   "display_name": "Python 3",
   "language": "python",
   "name": "python3"
  },
  "language_info": {
   "codemirror_mode": {
    "name": "ipython",
    "version": 3
   },
   "file_extension": ".py",
   "mimetype": "text/x-python",
   "name": "python",
   "nbconvert_exporter": "python",
   "pygments_lexer": "ipython3",
   "version": "3.9.4"
  }
 },
 "nbformat": 4,
 "nbformat_minor": 5
}
